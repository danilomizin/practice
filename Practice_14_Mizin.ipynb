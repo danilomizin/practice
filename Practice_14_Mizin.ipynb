{
  "nbformat": 4,
  "nbformat_minor": 0,
  "metadata": {
    "colab": {
      "name": "Practice_14_KM_01.ipynb",
      "provenance": [],
      "collapsed_sections": []
    },
    "kernelspec": {
      "name": "python3",
      "display_name": "Python 3.8.5 32-bit",
      "metadata": {
        "interpreter": {
          "hash": "fff43108d9628b46022cd6b5d20bd3785f727599a8e3705a30764c317ba09cf4"
        }
      }
    }
  },
  "cells": [
    {
      "cell_type": "markdown",
      "metadata": {
        "id": "FMqboNwO4rVs"
      },
      "source": [
        "# **Курс \"Програмування на мові Python\"**\n",
        "\n",
        "##### Викладачі:\n",
        "##### Борисенко Павло Борисович\n",
        "##### Щьоголєв Максим Олегович\n"
      ]
    },
    {
      "cell_type": "markdown",
      "metadata": {
        "id": "A2T6MigL5Z06"
      },
      "source": [
        "## **Практичне зайняття №14**\n",
        "\n",
        "### Тема: \"Робота з файлами\""
      ]
    },
    {
      "cell_type": "markdown",
      "metadata": {
        "id": "cfCdgK2zXm7e"
      },
      "source": [
        "### **Завдання 1 (1,5 бали)**\n",
        "\n",
        "У 1939 році друком вийшов роман американського письменика Ернеста Вінсента Райта \"Ґедсбі\". Особливу увагу публіки він здобув через те, що письменник жодного разу не використав у романі літеру \"e\" (роман складається з більше ніж 50,000 слів), яка є найбільш вживаною літерою в англійській мові.\n",
        "\n",
        "Порахуйте кількість входжень кожної літери у текст роману. Виведіть список літер англійського алфавіту, а також інформацію про те, скільки відсотків від усіх літер тексту складає кожна літера алфавіту.\n",
        "\n",
        "Зауваження:\n",
        "\n",
        "1. Програма має ігнорувати будь-які символи, окрім літер.\n",
        "\n",
        "2. Переведіть усі літери у верхній або у нижній регістр.\n",
        "\n",
        "3. Під час виведення відсортуйте літери у порядку зменшення їхнього відсотка. Літера \"e\" має стояти на останньому місці у цьому списку.\n",
        "\n",
        "4. Виведіть перші 5 та останні 5 літер відсортованого списку разом з відсотковими значеннями, що їм відповідають."
      ]
    },
    {
      "cell_type": "code",
      "metadata": {
        "tags": [],
        "id": "u4-fHJJ6U462"
      },
      "source": [
        "dict_letter = {\n",
        "    \"a\": 0,\n",
        "    \"b\": 0,\n",
        "    \"c\": 0,\n",
        "    \"d\": 0,\n",
        "    \"e\": 0,\n",
        "    \"f\": 0,\n",
        "    \"g\": 0,\n",
        "    \"h\": 0,\n",
        "    \"i\": 0,\n",
        "    \"j\": 0,\n",
        "    \"k\": 0,\n",
        "    \"l\": 0,\n",
        "    \"m\": 0,\n",
        "    \"n\": 0,\n",
        "    \"o\": 0,\n",
        "    \"p\": 0,\n",
        "    \"q\": 0,\n",
        "    \"r\": 0,\n",
        "    \"s\": 0,\n",
        "    \"t\": 0,\n",
        "    \"u\": 0,\n",
        "    \"v\": 0,\n",
        "    \"w\": 0,\n",
        "    \"x\": 0,\n",
        "    \"y\": 0,\n",
        "    \"z\": 0\n",
        "}\n",
        "with open(\"gadsby.txt\") as file:\n",
        "    lines = file.readlines()\n",
        "    all_letters = 0\n",
        "    for line in lines:\n",
        "        for letter in line:\n",
        "            if letter.lower() in list(dict_letter.keys()):\n",
        "                all_letters +=1\n",
        "                dict_letter[letter.lower()] += 1\n",
        "list_dict_letter = list(dict_letter.items())\n",
        "list_dict_letter.sort(key = lambda i: i[1], reverse = True)\n",
        "final_dict = dict(list_dict_letter)\n",
        "for key in final_dict.keys():\n",
        "    final_dict[key] = round((final_dict[key]/all_letters)*100,3)\n",
        "print((list(final_dict.items()))[0:5])\n",
        "print(((list(final_dict.items()))[-5::]))\n",
        "\n"
      ],
      "execution_count": 3,
      "outputs": [
        {
          "output_type": "error",
          "ename": "FileNotFoundError",
          "evalue": "[Errno 2] No such file or directory: 'gadsby.txt'",
          "traceback": [
            "\u001b[1;31m---------------------------------------------------------------------------\u001b[0m",
            "\u001b[1;31mFileNotFoundError\u001b[0m                         Traceback (most recent call last)",
            "\u001b[1;32m<ipython-input-3-6e35a59352dc>\u001b[0m in \u001b[0;36m<module>\u001b[1;34m\u001b[0m\n\u001b[0;32m     27\u001b[0m     \u001b[1;34m\"z\"\u001b[0m\u001b[1;33m:\u001b[0m \u001b[1;36m0\u001b[0m\u001b[1;33m\u001b[0m\u001b[1;33m\u001b[0m\u001b[0m\n\u001b[0;32m     28\u001b[0m }\n\u001b[1;32m---> 29\u001b[1;33m \u001b[1;32mwith\u001b[0m \u001b[0mopen\u001b[0m\u001b[1;33m(\u001b[0m\u001b[1;34m\"gadsby.txt\"\u001b[0m\u001b[1;33m)\u001b[0m \u001b[1;32mas\u001b[0m \u001b[0mfile\u001b[0m\u001b[1;33m:\u001b[0m\u001b[1;33m\u001b[0m\u001b[1;33m\u001b[0m\u001b[0m\n\u001b[0m\u001b[0;32m     30\u001b[0m     \u001b[0mlines\u001b[0m \u001b[1;33m=\u001b[0m \u001b[0mfile\u001b[0m\u001b[1;33m.\u001b[0m\u001b[0mreadlines\u001b[0m\u001b[1;33m(\u001b[0m\u001b[1;33m)\u001b[0m\u001b[1;33m\u001b[0m\u001b[1;33m\u001b[0m\u001b[0m\n\u001b[0;32m     31\u001b[0m     \u001b[0mall_letters\u001b[0m \u001b[1;33m=\u001b[0m \u001b[1;36m0\u001b[0m\u001b[1;33m\u001b[0m\u001b[1;33m\u001b[0m\u001b[0m\n",
            "\u001b[1;31mFileNotFoundError\u001b[0m: [Errno 2] No such file or directory: 'gadsby.txt'"
          ]
        }
      ]
    },
    {
      "cell_type": "markdown",
      "metadata": {
        "id": "A34oz70eU463"
      },
      "source": [
        "### **Завдання 2 (1,5 бали)**\n",
        "\n",
        "Створіть CSV-файл, що буде містити від 5 до 10 пісень (творів) вашого улюбленого музиканта. Назва файлу - ім'я музиканта (композитора) або назва гурту.\n",
        "\n",
        "1. Обов'язково додайте до файлу рядок з назвами двох колонок (Song, Year) або (Composition, Year).\n",
        "\n",
        "2. Після запису файлу роздрукуйте назву файлу та усі наявні у файлі рядки (включно із заголовками).\n",
        "\n",
        "3. Для запису та зчитування рядків скористайтесь функціями csv.DictWriter() та csv.DictReader()."
      ]
    },
    {
      "cell_type": "code",
      "metadata": {
        "id": "MEJIrG1GU463"
      },
      "source": [
        "import csv\n",
        "\n",
        "with open(\"drake.csv\",\"w\", newline = \"\") as csvfile:\n",
        "    fieldnames = [\"Song\", \"Year\"]\n",
        "    writer = csv.DictWriter(csvfile, fieldnames = fieldnames)\n",
        "    writer.writeheader()\n",
        "    writer.writerow({\"Song\": \"D4L\" ,\n",
        "                     \"Year\": \"2020\"})\n",
        "    writer.writerow({\"Song\": \"Nonstop\" ,\n",
        "                     \"Year\": \"2018\"})\n",
        "    writer.writerow({\"Song\": \"God`s Plan\" ,\n",
        "                     \"Year\": \"2018\"})\n",
        "    writer.writerow({\"Song\": \"Free smoke\" ,\n",
        "                     \"Year\": \"2017\"})\n",
        "    writer.writerow({\"Song\": \"4422\" ,\n",
        "                     \"Year\": \"2017\"})\n",
        "    writer.writerow({\"Song\": \"I`m upset\" ,\n",
        "                     \"Year\": \"2018\"})\n",
        "    writer.writerow({\"Song\": \"Trust Issues\" ,\n",
        "                     \"Year\": \"2019\"})\n",
        "    writer.writerow({\"Song\": \"Draft Day\" ,\n",
        "                     \"Year\": \"2019\"})\n",
        "    writer.writerow({\"Song\": \"Time Flies\" ,\n",
        "                     \"Year\": \"2020\"})\n",
        "with open(\"drake.csv\", newline = \"\") as csvfile:\n",
        "    reader = csv.DictReader(csvfile)\n",
        "    for heading in reader.fieldnames:\n",
        "        print(heading, end=\" \")\n",
        "    print(\"\\n\")\n",
        "    for row in reader:\n",
        "        print(row[\"Song\"], row[\"Year\"])\n",
        "    \n"
      ],
      "execution_count": 2,
      "outputs": [
        {
          "output_type": "stream",
          "name": "stdout",
          "text": [
            "Song Year \n\nD4L 2020\nNonstop 2018\nGod`s Plan 2018\nFree smoke 2017\n4422 2017\nI`m upset 2018\nTrust Issues 2019\nDraft Day 2019\nTime Flies 2020\n"
          ]
        }
      ]
    },
    {
      "cell_type": "markdown",
      "metadata": {
        "id": "Jb-eSBsWU464"
      },
      "source": [
        "### **Завдання 3 (бонусне, 1 бал)**\n",
        "\n",
        "COCO Dataset - набір фотографій та анотацій до них. Його дуже часто використовують для тренування класифікаторів, призначених для розпізнавання об'єктів та визначення ключових точок на зображеннях.\n",
        "\n",
        "Завантажте файли з описом фотографій COCO Dataset за посиланням: http://images.cocodataset.org/annotations/image_info_test2017.zip\n",
        "\n",
        "1. Відкрийте файл image_info_test-dev2017.json. Інформація про фотографії з бази COCO міститься у полі \"images\". Інформація про категорії, на які розділені всі фотографії, міститься у полі \"categories\".\n",
        "\n",
        "2. Визначте кількість фотографій, інформацію про які можна знайти у цьому файлі (кількість елементів, що відповідають ключу \"images\").\n",
        "\n",
        "3. Визначте кількість наявних категорій (кількість елементів, що відповідають ключу \"categories\").\n",
        "\n",
        "4. Виведіть посилання на фотографію 000000000001.jpg (\"coco_url\"), висоту цієї фотографії (\"height\"), ширину (\"width\") та її ідентифікатор (\"id\").\n",
        "\n",
        "5. Опис структури JSON-файлу для набору фотографій COCO можна знайти за посиланням: https://cocodataset.org/#format-data\n",
        "\n",
        "6. Щоб перевірити правильність результатів, у VS Code встановіть розширення JSON та відкрийте файл image_info_test-dev2017.json. Розширення автоматично визначає кількість елементів у кожному полі."
      ]
    },
    {
      "cell_type": "code",
      "metadata": {
        "id": "74C6WKB_U464"
      },
      "source": [
        "import json\n",
        "\n",
        "\n",
        "with open('image_info_test2017.json') as jsfile:\n",
        "    data = json.load(jsfile)\n",
        "    images = len(data[\"images\"])\n",
        "    categories = len(data[\"categories\"])\n",
        "    for dict in data[\"images\"]:\n",
        "        if dict[\"file_name\"] == \"000000000001.jpg\":\n",
        "            dict_image = dict\n",
        "            print(dict_image)\n",
        "            print(\"Кількість фотографій:\", images)\n",
        "            print(\"Кількість категорій:\", categories)\n",
        "            print(\"Посилання на фото:\", dict_image[\"coco_url\"])\n",
        "            print(\"Height:\", dict_image[\"height\"])\n",
        "            print(\"Weight:\", dict_image[\"width\"])\n",
        "            print(\"Id:\", dict_image[\"id\"])\n",
        "            break"
      ],
      "execution_count": null,
      "outputs": []
    }
  ]
}