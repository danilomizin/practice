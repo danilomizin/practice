{
  "nbformat": 4,
  "nbformat_minor": 0,
  "metadata": {
    "colab": {
      "name": "Practice_7_KM-01_.ipynb",
      "provenance": [],
      "collapsed_sections": []
    },
    "kernelspec": {
      "name": "Python 3.8.5 32-bit",
      "display_name": "Python 3.8.5 32-bit",
      "metadata": {
        "interpreter": {
          "hash": "fff43108d9628b46022cd6b5d20bd3785f727599a8e3705a30764c317ba09cf4"
        }
      }
    }
  },
  "cells": [
    {
      "cell_type": "markdown",
      "metadata": {
        "id": "FMqboNwO4rVs"
      },
      "source": [
        "# **Курс \"Програмування на мові Python\"**\n",
        "\n",
        "##### Викладачі:\n",
        "##### Борисенко Павло Борисович\n",
        "##### Щьоголєв Максим Олегович\n"
      ]
    },
    {
      "cell_type": "markdown",
      "metadata": {
        "id": "A2T6MigL5Z06"
      },
      "source": [
        "## **Практичне зайняття №7**\n",
        "\n",
        "### Тема: \"Перевірка даних. Робота з виключеннями. Регулярні вирази\""
      ]
    },
    {
      "cell_type": "markdown",
      "metadata": {
        "id": "cfCdgK2zXm7e"
      },
      "source": [
        "### **Завдання 1 (1,5 бали)**\n",
        "\n",
        "Переробити завдання №1 практичної роботи №6 з використанням регулярних виразів.\n",
        "\n",
        "1. Створити шаблон регулярного виразу.\n",
        "\n",
        "2. За допомогою функції compile() створити об'єкт регулярного виразу.\n",
        "\n",
        "3. Всі інші вимоги залишаються такими ж, як і в оригінальному завданні."
      ]
    },
    {
      "cell_type": "code",
      "metadata": {
        "id": "ifNX2M7LXm7f"
      },
      "source": [
        "import re\n",
        "\n",
        "pose_estimation = \"[BodyPart:0-(0.55, 0.17) score=0.81 BodyPart:1-(0.49, 0.27) score=0.85 BodyPart:2-(0.41, 0.26) score=0.67 BodyPart:3-(0.33, 0.37) score=0.72 BodyPart:4-(0.36, 0.48) score=0.78 BodyPart:5-(0.58, 0.27) score=0.81 BodyPart:6-(0.65, 0.38) score=0.88 BodyPart:7-(0.62, 0.48) score=0.86 BodyPart:8-(0.43, 0.48) score=0.60 BodyPart:9-(0.43, 0.66) score=0.67 BodyPart:10-(0.53, 0.79) score=0.56 BodyPart:11-(0.53, 0.48) score=0.56 BodyPart:12-(0.59, 0.66) score=0.75 BodyPart:13-(0.49, 0.80) score=0.50 BodyPart:14-(0.54, 0.15) score=0.73 BodyPart:15-(0.56, 0.15) score=0.85 BodyPart:16-(0.48, 0.16) score=0.81 BodyPart:17-(0.83, 0.18) score=0.79]\"\n",
        "f=r\"score=[0-9].[0-9][0-9]\"\n",
        "pattern_1=re.compile(f)\n",
        "list1=pattern_1.findall(pose_estimation)\n",
        "final_list_score=re.findall(\"[0-9].[0-9][0-9]\", \"\".join(list1))\n",
        "f2=r\"[0-9].[0-9][0-9], [0-9].[0-9][0-9]\"\n",
        "pattern_2=re.compile(f2)\n",
        "list2=(\" \".join(pattern_2.findall(pose_estimation))).split(\" \")\n",
        "print(\"score =\",final_list_score)\n",
        "print(\"BodyPart =\",list2)"
      ],
      "execution_count": 2,
      "outputs": []
    },
    {
      "cell_type": "markdown",
      "metadata": {
        "id": "M1Sg0vXJXm7n"
      },
      "source": [
        "### **Завдання 2 (1,5 бали)**\n",
        "\n",
        "Написати програму підрахунку коренів квадратного рівняння без попередніх перевірок.\n",
        "\n",
        "1. Користувач має вводити коефіцієнти a, b та c з клавіатури.\n",
        "\n",
        "2. Програма має обробляти помилки ділення на 0, кореня від'ємного числа та інші, а також виводити відповідні повідомлення у разі виникнення таких помилок.\n",
        "\n",
        "3. Якщо рівняння не має коренів, программа має генерувати помилку за допомогою ключового слова raise, а потім обробляти її.\n",
        "\n",
        "4. Правильно написана програма при виникненні різних помилок має виводити текст помилки, а також різні повідомлення про те, в чому суть цих помилок. Необроблених помилок бути не повинно."
      ]
    },
    {
      "cell_type": "code",
      "metadata": {
        "id": "co7fcAuvXm7o"
      },
      "source": [
        "def check_Number():\n",
        "    while type:\n",
        "        number=input(\"Введіть число:\")\n",
        "        try:\n",
        "            number=int(number)\n",
        "        except ValueError as error:\n",
        "            print(number+\" це не число, назва помилки:\", error)\n",
        "        else:\n",
        "            break\n",
        "    return number\n",
        "def func_d():\n",
        "    a=check_Number()\n",
        "    b=check_Number()\n",
        "    c=check_Number()\n",
        "    d=b**2-(4*a*c)\n",
        "    print(\"Рівняння має такий виглаяд: \"+str(a)+\"(x^2)+\"+str(b)+\"x+\"+str(c)+\"=0\"+\"\\nДискрімінант дорівнює:\",d)\n",
        "    try:\n",
        "        d>0\n",
        "        try:\n",
        "            a!=0\n",
        "            x1=round((1/2)*((-b+d**(1/2))/a),2)\n",
        "            x2=round((1/2)*((-b-d**(1/2))/a),2)\n",
        "            print(\"Корені рівняння:\", x1,\"та\", x2)\n",
        "        except ZeroDivisionError as error:\n",
        "            print(\"Перше значення не може бути 0, назва помилки:\",error)\n",
        "    except Exception:\n",
        "        print(\"Дискриминант має бути більше або дорівнювати 0\")\n",
        "func_d()"
      ],
      "execution_count": 2,
      "outputs": [
        {
          "output_type": "stream",
          "name": "stdout",
          "text": [
            "Рівняння має такий виглаяд: 1(x^2)+1x+10=0\nДискрімінант дорівнює: -39\nДискриминант має бути більше або дорівнювати 0\n"
          ]
        }
      ]
    },
    {
      "cell_type": "code",
      "execution_count": null,
      "metadata": {},
      "outputs": [],
      "source": []
    }
  ]
}