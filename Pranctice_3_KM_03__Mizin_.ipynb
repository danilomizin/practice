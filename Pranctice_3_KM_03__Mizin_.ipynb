{
  "nbformat": 4,
  "nbformat_minor": 0,
  "metadata": {
    "colab": {
      "name": "Pranctice_3_KM-01_<name>.ipynb",
      "provenance": [],
      "collapsed_sections": []
    },
    "kernelspec": {
      "name": "Python 3.8.6 64-bit",
      "display_name": "Python 3.8.6 64-bit",
      "metadata": {
        "interpreter": {
          "hash": "d791166709e66a0842cbecfa14922e2b68d73f7cdba554ca5bc046852da5721b"
        }
      }
    }
  },
  "cells": [
    {
      "cell_type": "markdown",
      "metadata": {
        "id": "1bRxWHr5e8kt"
      },
      "source": [
        "# **Курс \"Програмування на мові Python\"**\n",
        "\n",
        "##### Викладачі:\n",
        "##### Борисенко Павло Борисович\n",
        "##### Щьоголєв Максим Олегович"
      ]
    },
    {
      "cell_type": "markdown",
      "metadata": {
        "id": "buZUwUgFe-kx"
      },
      "source": [
        "## **Практичне зайняття №3**\n",
        "### Тема: \"Перші програми на Python. Введення та виведення даних. Інструкція if\""
      ]
    },
    {
      "cell_type": "markdown",
      "metadata": {
        "id": "PUkxEn8EfAUe"
      },
      "source": [
        "### **Завдання 1 (1,5 бали)**\n",
        "\n"
      ]
    },
    {
      "cell_type": "markdown",
      "metadata": {
        "id": "M7jjwxAvfKa2"
      },
      "source": [
        "**Написати програму введення та виведення даних про одержувача листа (посилки) за стандартами Укрпошти.**\n",
        "\n",
        "1. Усі запити на введення даних повинні супроводжуватись відповідними підказками-поясненнями (бажано англійською мовою).\n",
        "\n",
        "2. Дані мають виводитись так, як показано нижче (з урахуванням кількості рядків та послідовності даних у кожному з них).\n",
        "\n",
        "3. Дані, виділені жирним шрифтом, повинні вводитись із клавіатури. Всього має бути 9 окремих команд введення даних\n",
        "\n",
        "4. Назви змінних повинні бути інформативними та оформленими відповідно до правил іменування змінних\n",
        "\n",
        "5. Додати 2 коментарі, що вказують на блоки введення та виведення даних.\n",
        "\n",
        "***Формат виведення даних:***\n",
        "\n",
        "(1) **Ім'я** (2) **Прізвище**\n",
        "\n",
        "(3) **Номер телефону**\n",
        "\n",
        "Str. (4) **Назва вулиці** (5) **Номер будинку**, ap. (6) **Номер квартири**, (7) **Місто**\n",
        "\n",
        "(8) **Індекс**\n",
        "\n",
        "(9) **Країна**"
      ]
    },
    {
      "cell_type": "code",
      "metadata": {
        "id": "hEJG5C3_fJk9"
      },
      "source": [],
      "execution_count": null,
      "outputs": []
    },
    {
      "cell_type": "markdown",
      "metadata": {
        "id": "WmnpKrmPf689"
      },
      "source": [
        "### **Завдання 2 (1,5 бали)**"
      ]
    },
    {
      "cell_type": "markdown",
      "metadata": {
        "id": "4n4p_pz7gFKM"
      },
      "source": [
        "Відповідно до чинної системи оцінювання в КПІ, рейтингові бали R студентів переводяться в оцінки за такою таблицею:\n",
        "\n",
        "R | Grade\n",
        "--- | ---\n",
        "95 - 100 | Excellent\n",
        "85 - 94 | Very good\n",
        "75 - 84 | Good\n",
        "65 - 74 | Satisfactory\n",
        "60 - 64 | Marginal\n",
        "0 - 59 | Unsatisfactory\n",
        "\n",
        "Напишіть програму, яка буде зчитувати рейтинговий бал R, введений користувачем, та виводити відповідну оцінку як частину змістовного повідомлення. Наприклад, якщо користувач вводить рейтинговий бал R 78, ваша програма повинна показати оцінку Good. Програма також повинна виводити повідомлення про помилку, якщо користувач введе від'ємне число або число, більше за 100."
      ]
    },
    {
      "cell_type": "code",
      "execution_count": null,
      "metadata": {},
      "outputs": [],
      "source": []
    },
    {
      "cell_type": "markdown",
      "metadata": {
        "id": "X8fC_GM_nMRi"
      },
      "source": [
        "### **Завдання 3 (бонусне, 1 бал)**"
      ]
    },
    {
      "cell_type": "markdown",
      "metadata": {
        "id": "b593txPwotgN"
      },
      "source": [
        "Мобільний оператор розробив тарифний план, згідно з яким, сплачуючи 100 грн. на місяць, абонент може спілкуватись 50 хвилин з абонентами інших мобільних операторів впродовж цього місяця. У разі перевищення ліміту абоненту надаються ще 50 хвилин до кінця місяця за 50 грн. Якщо ж і цей ліміт було перевищено, абонент сплачуватиме 2 грн. за кожну додаткову хвилину розмов до кінця поточного місяця.\n",
        "\n",
        "Напишіть програму, що підраховує суму коштів, яку доведеться сплатити абоненту за місяць, на основі тривалості його розмов з абонентами інших мобільних операторів (у хвилинах), введеної користувачем з клавіатури. Ваша програма також повинна виводити повідомлення про помилку, якщо користувач введе від'ємне число."
      ]
    },
    {
      "cell_type": "code",
      "metadata": {
        "id": "PA_E_H0Zosu0"
      },
      "source": [
        "name=str(input(\"Your name:\"))#вводимо дані\n",
        "surname=str(input(\"Your surname:\"))\n",
        "number=str(input(\"Your number:\"))\n",
        "street=str(input(\"Your street:\"))\n",
        "bulding=str(input(\"Your number of bulding:\"))\n",
        "flat=str(input(\"Your number of flat:\"))\n",
        "city=str(input(\"Your city:\"))\n",
        "index=str(input(\"Your city:\"))\n",
        "country=str(input(\"your country\"))\n",
        "print(name, surname)#виводимо дані\n",
        "print(number)\n",
        "print('Str. ',street, bulding, \"ap.\",  flat, city)\n",
        "print(index)\n",
        "print(country)\n"
      ],
      "execution_count": 1,
      "outputs": [
        {
          "output_type": "stream",
          "name": "stdout",
          "text": [
            "Danilo Mizin \n0958813169\nsobor 60 7 Poltava\nPoltava\nUkraine\n"
          ]
        }
      ]
    },
    {
      "cell_type": "code",
      "execution_count": 17,
      "metadata": {},
      "outputs": [
        {
          "output_type": "stream",
          "name": "stdout",
          "text": [
            "Unsatisfactory\n"
          ]
        }
      ],
      "source": [
        "point=int(input(\"Print point:\"))\n",
        "if point<0 or point>100:\n",
        "    print(\"Point can`t be more than 100 and less than 0\")\n",
        "if point>=95 and point<=100:\n",
        "    print(\"Excellent\")\n",
        "elif point>=85 and point<=94:\n",
        "    print(\"Very good\")\n",
        "elif point>=75 and point<=84:\n",
        "    print(\"Good\")\n",
        "elif point>=65 and point<=74:\n",
        "    print(\"Satisfactory\")\n",
        "elif point>=60 and point<=64:\n",
        "    print(\"Marginal\")\n",
        "elif point>=0 and point<=59:\n",
        "    print(\"Unsatisfactory\")"
      ]
    },
    {
      "cell_type": "code",
      "execution_count": 19,
      "metadata": {},
      "outputs": [
        {
          "output_type": "stream",
          "name": "stdout",
          "text": [
            "250\n"
          ]
        }
      ],
      "source": [
        "minutes=int(input())\n",
        "excess=int(minutes-100)\n",
        "if minutes<=50:\n",
        "    print(\"100\")\n",
        "elif minutes>50 and minutes<=100:\n",
        "    print(\"150\")\n",
        "elif minutes>100:\n",
        "    print(int((excess*2)+150))"
      ]
    },
    {
      "cell_type": "code",
      "execution_count": null,
      "metadata": {},
      "outputs": [],
      "source": []
    }
  ]
}