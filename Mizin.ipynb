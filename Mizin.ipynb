{
  "nbformat": 4,
  "nbformat_minor": 0,
  "metadata": {
    "colab": {
      "name": "Practice_5.ipynb",
      "provenance": [],
      "collapsed_sections": [
        "193Kzrii8JCG",
        "3txUK3KJUdkf",
        "n1mNKt9JzLSj"
      ]
    },
    "kernelspec": {
      "name": "python3",
      "display_name": "Python 3.8.5 32-bit",
      "metadata": {
        "interpreter": {
          "hash": "fff43108d9628b46022cd6b5d20bd3785f727599a8e3705a30764c317ba09cf4"
        }
      }
    }
  },
  "cells": [
    {
      "cell_type": "markdown",
      "metadata": {
        "id": "FMqboNwO4rVs"
      },
      "source": [
        "# **Курс \"Програмування на мові Python\"**\n",
        "\n",
        "##### Викладачі:\n",
        "##### Борисенко Павло Борисович\n",
        "##### Щьоголєв Максим Олегович\n"
      ]
    },
    {
      "cell_type": "markdown",
      "metadata": {
        "id": "A2T6MigL5Z06"
      },
      "source": [
        "## **Додаткове завдання**\n",
        "### Тема: \"Робота з кортежами, множинами та словниками\""
      ]
    },
    {
      "source": [
        "### **Завдання 1 (1,5 бали)**\n",
        "\n",
        "На сотовому телефоні повідомлення пишуться за допомогою кнопок з цифрами. Оскільки кожна кнопка містить кілька символів, потрібно натискати на неї кілька разів, щоб надрукувати деякі з них. Якщо натиснути кнопку один раз, генерується перший із доступних для цієї кнопки символів. Якщо натиснути два, три, чотири чи п'ять разів, генеруються другий, третій, четвертий чи п'ятий символи віповідно. Повний перелік кнопок (цифр) та символів, які генеруються за допомогою цих кнопок, подано у таблиці.\n",
        "\n",
        "Кнопка | Символи\n",
        "--- | ---\n",
        "1 | . , ? ! :\n",
        "2 | A B C\n",
        "3 | D E F\n",
        "4 | G H I\n",
        "5 | J K L\n",
        "6 | M N O\n",
        "7 | P Q R S\n",
        "8 | T U V\n",
        "9 | W X Y Z\n",
        "0 | space\n",
        "\n",
        "Напишіть програму, яка генеруватиме номери кнопок, які потрібно натиснути для введення певного рядка, з урахуванням кількості натискань кожної кнопки. Рядок має вводити користувач. Скористайтесь словником для збереження усіх номерів кнопок та переліку символів, що їм відповідають.\n",
        "\n",
        "Наприклад, якщо користувач ввів \"Hello, World!\", програма повинна вивести:\n",
        "\n",
        "4433555555666110966677755531111\n",
        "\n",
        "Програма повинна приймати літери як верхнього, так і нижнього регістрів. Усі символи, які не входять до переліку, поданому у таблиці, повинні ігноруватись програмою."
      ],
      "cell_type": "markdown",
      "metadata": {}
    },
    {
      "cell_type": "code",
      "execution_count": 5,
      "metadata": {},
      "outputs": [
        {
          "output_type": "stream",
          "name": "stdout",
          "text": [
            "4433555555666110966677755531111\n"
          ]
        }
      ],
      "source": [
        "DICT_PHONE = {\"1\": [\".\", \",\", \"?\", \"!\", \":\"],\n",
        "              \"2\": [\"A\", \"B\", \"C\"],\n",
        "              \"3\": [\"D\", \"E\", \"F\"],\n",
        "              \"4\": [\"G\", \"H\", \"I\"],\n",
        "              \"5\": [\"J\", \"K\", \"L\"],\n",
        "              \"6\": [\"M\", \"N\", \"O\"],\n",
        "              \"7\": [\"P\", \"Q\", \"R\", \"S\"],\n",
        "              \"8\": [\"T\", \"U\", \"V\"],\n",
        "              \"9\": [\"W\", \"X\", \"Y\", \"Z\"],\n",
        "              \"0\": [\" \"]\n",
        "              }\n",
        "\n",
        "\n",
        "def f_1(letter):\n",
        "    for i in DICT_PHONE:\n",
        "        if letter in DICT_PHONE.get(i, 0):\n",
        "            return i * (DICT_PHONE.get(i, 0).index(letter) + 1)\n",
        "\n",
        "\n",
        "def f_2(word):\n",
        "    number_list = []\n",
        "    for letter in word:\n",
        "        number_list.append(f_1(letter))\n",
        "    print(\"\".join(number_list))\n",
        "\n",
        "\n",
        "def check_word():\n",
        "    while type:\n",
        "        word = input(\"Please input word:\")\n",
        "        for letter in word.upper():\n",
        "            if letter not in \"\".join([\" \".join(i) for i in DICT_PHONE.values()]):\n",
        "                print(f\"You input invalid symbol: {letter}\")\n",
        "                break\n",
        "        else:\n",
        "            return word.upper()\n",
        "\n",
        "\n",
        "word = check_word()\n",
        "f_2(word)"
      ]
    },
    {
      "source": [
        "### **Завдання 2 (1,5 бали)**\n",
        "\n",
        "Напишіть програму, яка зчитуватиме слова, введені користувачем з клавіатури, допоки він не натисне Enter, залишивши рядок порожнім. Після цього програма має роздрукувати усі слова, причому вони не мають повторюватись. Скористайтесь властивістю множини для збереженя унікальних слів."
      ],
      "cell_type": "markdown",
      "metadata": {}
    },
    {
      "cell_type": "code",
      "execution_count": 7,
      "metadata": {},
      "outputs": [
        {
          "output_type": "stream",
          "name": "stdout",
          "text": [
            "list\ncan\nadd\nappend\nremove\nword\n"
          ]
        }
      ],
      "source": [
        "def input_word():\n",
        "    set_word = set()\n",
        "    while True:\n",
        "        word = input(\"Please input word:\")\n",
        "        if word == \"\":\n",
        "            return set_word\n",
        "        else:\n",
        "            set_word.add(word)\n",
        "\n",
        "\n",
        "list_word = input_word()\n",
        "for word in list_word:\n",
        "    print(word)"
      ]
    }
  ]
}