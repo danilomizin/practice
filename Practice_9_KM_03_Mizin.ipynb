{
  "nbformat": 4,
  "nbformat_minor": 0,
  "metadata": {
    "colab": {
      "name": "Practice_7_KM-01_.ipynb",
      "provenance": [],
      "collapsed_sections": []
    },
    "kernelspec": {
      "name": "python3",
      "display_name": "Python 3"
    }
  },
  "cells": [
    {
      "cell_type": "markdown",
      "metadata": {
        "id": "FMqboNwO4rVs"
      },
      "source": [
        "# **Курс \"Програмування на мові Python\"**\n",
        "\n",
        "##### Викладачі:\n",
        "##### Борисенко Павло Борисович\n",
        "##### Щьоголєв Максим Олегович\n"
      ]
    },
    {
      "cell_type": "markdown",
      "metadata": {
        "id": "A2T6MigL5Z06"
      },
      "source": [
        "## **Практичне зайняття №9**\n",
        "\n",
        "### Тема: \"Лямбда-функції. Функції вищих порядків\""
      ]
    },
    {
      "cell_type": "markdown",
      "metadata": {
        "id": "cfCdgK2zXm7e"
      },
      "source": [
        "### **Завдання 1 (1 бал)**\n",
        "\n",
        "Продавець роздрібного товару влаштовує розпродаж. Для всіх товарів знижка однакова - 60%. Щоб вивісити нові цінники, продавець хоче скласти таблицю, в якій для кожного товару буде підрахована його нова вартість та сума знижки.\n",
        "\n",
        "Написати програму, яка буде генерувати таку таблицю. Вартість одиниць товарів до розпродажу подано у списку products_list. \n",
        "\n",
        "1. Для підрахунку невідомих значень повинні використовуватись вбудовані функції вищих порядків.\n",
        "\n",
        "2. Вартість з урахуванням знижки та суми знижок для кожного товару повинні зберігатись у двох окремих списках. Порядок товарів у нових списках повинен бути такий самий, як і в списку products_list.\n",
        "\n",
        "3. Кожне підраховане числове значення має бути округлене до сотих.\n",
        "\n",
        "4. Дані повинні виводитись у вигляді:\n",
        "\n",
        "**Discount table:**\n",
        "\n",
        "**29.25 11.7 17.55**\n",
        "\n",
        "**48.99 19.6 29.39**\n",
        "\n",
        "**...**\n",
        "\n",
        "\n",
        "products_list = [[29.25, 48.99, 99.98, 124.65, 214.30, 543.90, 799.85]]\n"
      ]
    },
    {
      "cell_type": "code",
      "metadata": {
        "id": "ifNX2M7LXm7f"
      },
      "source": [
        "products_list = [29.25, 48.99, 99.98, 124.65, 214.30, 543.90, 799.85]\n",
        "price_with_discount=list(map(lambda i:i*0.6, products_list))\n",
        "discount=list(map(lambda x,y: x-y, products_list,price_with_discount))\n",
        "print(\"Discount table:\")\n",
        "for i in range(len(products_list)):\n",
        "    print(round(products_list[i], 2),round(discount[i],2),round(price_with_discount[i],2))"
      ],
      "execution_count": null,
      "outputs": []
    },
    {
      "source": [
        "### **Завдання 2 (2 бали)**\n",
        "\n",
        "Зазвичай рік має 365 днів. Однак у високосні роки додається ще один день - 29 лютого. Правила визначення високосного року такі:\n",
        "\n",
        "- Будь-який рік, що ділиться на 400 - високосний.\n",
        "\n",
        "- З тих років, що залишились, будь-який рік, що ділиться на 100 - **не** високосний.\n",
        "\n",
        "- З тих років, що залишились, будь-який рік, що ділиться на 4 - високосний.\n",
        "\n",
        "- Усі інші роки, що залишились - **не** високосні.\n",
        "\n",
        "1) Створіть функцію, в якій за допомогою вбудованих функцій вищих порядків будуть визначатися високосні роки серед перелічених років у списку years. Створена функція має повертати список високосних років.\n",
        "\n",
        "2) Створіть функцію вищих порядків, яка прийматиме на вхід попередню функцію та визначатиме кількість днів у місяці. Також функція повинна приймати на вхід ще 2 параметри: ціле число від 1 до 12 (місяць) та рік, як ціле чотирицифрове число. Ці значення корисувач має вводити з клавіатури. Перевірку введених даних слід виконувати поза межами функцій."
      ],
      "cell_type": "markdown",
      "metadata": {}
    },
    {
      "cell_type": "code",
      "execution_count": null,
      "metadata": {},
      "outputs": [],
      "source": [
        "import numpy as np\n",
        "\n",
        "years = np.arange(1900, 2020+1, 1)\n",
        "\n",
        "def check_number(str):\n",
        "    number=input()\n",
        "    try:\n",
        "        number=int(number)\n",
        "    except ValueError:\n",
        "        return \"Value Error\"\n",
        "    if str==\"month\":\n",
        "        if number in range(1,13):\n",
        "            return number\n",
        "        else:\n",
        "            print(\"Input Error, month must be in range(1,13)\")\n",
        "    if str==\"year\":\n",
        "        if number in range(999,9999):\n",
        "            return number\n",
        "        else:\n",
        "            print(\"Input Error, lenth year must be 4\")\n",
        "\n",
        "def days_month(mounth,days):\n",
        "    if mounth in [1,3,5,7,8,10,12]:\n",
        "        return \"31\"\n",
        "    elif mounth in [4,6,9,11]:\n",
        "        return \"30\"\n",
        "    elif mounth==2:\n",
        "        return days\n",
        "\n",
        "\n",
        "def high_years(list_years):\n",
        "    list_high=list(filter(lambda year: (year%4==0 and (year%400==0 or year%100!=0)) or year%400==0,list_years))\n",
        "    return list_high\n",
        "\n",
        "\n",
        "def calendar(x,function):\n",
        "    high_year=function(x)\n",
        "    print(\"Input month:\",end=\"\")\n",
        "    month = check_number(\"month\")\n",
        "    print(\"Input year:\",end=\"\")\n",
        "    year = check_number(\"year\")\n",
        "    if year in high_year:\n",
        "        print(\"Days in \",str(month)+\".\"+str(year)+\":\",days_month(month,29))\n",
        "    elif year not in high_year:\n",
        "        print(\"Days in \",str(month)+\".\"+str(year)+\":\",days_month(month,28))\n",
        "\n",
        "calendar(years,high_years)\n"
      ]
    }
  ]
}