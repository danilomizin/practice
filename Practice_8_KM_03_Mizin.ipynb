{
  "nbformat": 4,
  "nbformat_minor": 0,
  "metadata": {
    "colab": {
      "name": "Practice_7_KM-01_.ipynb",
      "provenance": [],
      "collapsed_sections": []
    },
    "kernelspec": {
      "name": "python3",
      "display_name": "Python 3.8.5 32-bit",
      "metadata": {
        "interpreter": {
          "hash": "fff43108d9628b46022cd6b5d20bd3785f727599a8e3705a30764c317ba09cf4"
        }
      }
    }
  },
  "cells": [
    {
      "cell_type": "markdown",
      "metadata": {
        "id": "FMqboNwO4rVs"
      },
      "source": [
        "# **Курс \"Програмування на мові Python\"**\n",
        "\n",
        "##### Викладачі:\n",
        "##### Борисенко Павло Борисович\n",
        "##### Щьоголєв Максим Олегович\n"
      ]
    },
    {
      "cell_type": "markdown",
      "metadata": {
        "id": "A2T6MigL5Z06"
      },
      "source": [
        "## **Практичне зайняття №8**\n",
        "\n",
        "### Тема: \"Робота з функціями. Локальні та глобальні змінні\""
      ]
    },
    {
      "cell_type": "markdown",
      "metadata": {
        "id": "cfCdgK2zXm7e"
      },
      "source": [
        "### **Завдання 1 (3 бали)**\n",
        "\n",
        "**Підрахувати визначник матриці, використовуючи перестановки та символ Леві-Чивіти.**\n",
        "\n",
        "Функція random_matrix() призначена для створення квадратної матриці випадкових чисел. Її змінювати непотрібно.\n",
        "\n",
        "Приклад використання методу permutations() для створення списку перестановок також подається у комірці з кодом.\n",
        "\n",
        "1) Створити 3 функції: функцію створення списку перестановок, функцію підрахунку добутків та функцію підрахунку загальної суми.\n",
        "\n",
        "2) Кожна функція має супроводжуватись рядком документації, що буде коротко описувати її призначення.\n",
        "\n",
        "3) Розмірність квадратної матриці має вводитись користувачем з клавіатури. Підрахунки виконувати лише в тому разі, якщо користувач введе ціле додатне число.\n",
        "\n",
        "4) Загальний результат повинен підраховуватись за допомогою композиції функцій.\n",
        "\n",
        "За бажання можна перевірити правильність роботи програми за допомогою функції np.linalg.det(a)."
      ]
    },
    {
      "cell_type": "code",
      "metadata": {
        "id": "ifNX2M7LXm7f"
      },
      "source": [
        "import numpy as np\n",
        "import itertools\n",
        "\n",
        "def random_matrix(dim):\n",
        "    \"\"\"\n",
        "    The function generates dim x dim array of integers\n",
        "    between 0 and 10.\n",
        "    \"\"\"\n",
        "    matrix = np.random.randint(10, size = (dim, dim))\n",
        "    return matrix\n",
        "\n",
        "def create_list():\n",
        "    \"\"\"\n",
        "    Create list of permutations\n",
        "    \"\"\"\n",
        "    global x\n",
        "    l=[]\n",
        "    for i in range(1,x+1):\n",
        "        l.append(str(i))\n",
        "    str1=\"\".join(l)\n",
        "    list1 = list(itertools.permutations(str1, x))\n",
        "    return list1\n",
        "\n",
        "def multiplication(matrix):\n",
        "    \"\"\"\n",
        "    Create list of result of multiplying\n",
        "    \"\"\"\n",
        "    list=create_list()\n",
        "    final_list=[]\n",
        "    for element in list:\n",
        "        c=0\n",
        "        a=1\n",
        "        for i in range(len(element)):\n",
        "            for k in range(i):\n",
        "                if element[k]>element[i]:\n",
        "                    c+=1\n",
        "        for i in range(len(element)):\n",
        "            a*=int(matrix[i][int(element[i])-1])\n",
        "        if c%2==0 or c==0:\n",
        "            final_list.append(a)\n",
        "        else:\n",
        "            final_list.append(-a)\n",
        "    return final_list\n",
        "\n",
        "def add(matrix):\n",
        "    \"\"\"\n",
        "    This function count final det (add all elements from list (function 1)\n",
        "    \"\"\"\n",
        "    list=multiplication(matrix)\n",
        "    c=0\n",
        "    for i in list:\n",
        "        c+=int(i)\n",
        "    return c\n",
        "def check_number(type):\n",
        "    while type:\n",
        "        k=False\n",
        "        number=input()\n",
        "        try:\n",
        "            number=type(number)\n",
        "            k==True\n",
        "        except ValueError:\n",
        "            print(number,\"не є цифрою, будьте уважніше, введіть повторно:\")\n",
        "        else:\n",
        "            break\n",
        "    return number\n",
        "\n",
        "def input_a(number):\n",
        "    a=[]\n",
        "    for i in range(number):\n",
        "        l=[]\n",
        "        for j in range(number):\n",
        "            print(\"Введіть цифру на позиції a[\"+str((i+1))+\"]\"+\"[\"+str((j+1))+\"]:\",end=\"\")\n",
        "            k=check_number(int)\n",
        "            l.append(int(k))\n",
        "        a.append(l)\n",
        "        l=[]\n",
        "    return a\n",
        "print(\"Введіть розмірність матриці:\",end=\"\")\n",
        "x=check_number(int)\n",
        "if x<=0:\n",
        "    print(\"Детермінант має бути більше 0\")\n",
        "else:\n",
        "    k=input(\"Якщо ви хочете вводити свою матрицю введіть F,якщо потрібно детермінант рандомної матриці введіть R:\")\n",
        "    if k==\"R\":\n",
        "        matrix=random_matrix(x)\n",
        "        print(\"Матриця:\",\"\\n\", matrix)\n",
        "        print(\"Детермінант цієї матриці:\",add(matrix))\n",
        "    elif k==\"F\":\n",
        "        matrix1=input_a(x)\n",
        "        print(\"Матриця:\", \"\\n\",matrix1)\n",
        "        print(\"Детермінант вашої матриці:\", add(matrix1))"
      ],
      "execution_count": 1,
      "outputs": [
        {
          "output_type": "error",
          "ename": "ModuleNotFoundError",
          "evalue": "No module named 'numpy'",
          "traceback": [
            "\u001b[1;31m---------------------------------------------------------------------------\u001b[0m",
            "\u001b[1;31mModuleNotFoundError\u001b[0m                       Traceback (most recent call last)",
            "\u001b[1;32m<ipython-input-1-4abf23de3f3d>\u001b[0m in \u001b[0;36m<module>\u001b[1;34m\u001b[0m\n\u001b[1;32m----> 1\u001b[1;33m \u001b[1;32mimport\u001b[0m \u001b[0mnumpy\u001b[0m \u001b[1;32mas\u001b[0m \u001b[0mnp\u001b[0m\u001b[1;33m\u001b[0m\u001b[1;33m\u001b[0m\u001b[0m\n\u001b[0m\u001b[0;32m      2\u001b[0m \u001b[1;32mimport\u001b[0m \u001b[0mitertools\u001b[0m\u001b[1;33m\u001b[0m\u001b[1;33m\u001b[0m\u001b[0m\n\u001b[0;32m      3\u001b[0m \u001b[1;33m\u001b[0m\u001b[0m\n\u001b[0;32m      4\u001b[0m \u001b[1;32mdef\u001b[0m \u001b[0mrandom_matrix\u001b[0m\u001b[1;33m(\u001b[0m\u001b[0mdim\u001b[0m\u001b[1;33m)\u001b[0m\u001b[1;33m:\u001b[0m\u001b[1;33m\u001b[0m\u001b[1;33m\u001b[0m\u001b[0m\n\u001b[0;32m      5\u001b[0m     \"\"\"\n",
            "\u001b[1;31mModuleNotFoundError\u001b[0m: No module named 'numpy'"
          ]
        }
      ]
    },
    {
      "cell_type": "code",
      "execution_count": null,
      "metadata": {},
      "outputs": [],
      "source": []
    }
  ]
}